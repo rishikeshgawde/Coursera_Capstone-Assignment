{
 "cells": [
  {
   "cell_type": "markdown",
   "metadata": {
    "scrolled": true
   },
   "source": [
    "# The Battle of Neighborhoods  \n",
    "### Content\n",
    "\n",
    "#### 1. Introduction:\n",
    "\n",
    "    1.1 Scenario and Background.\n",
    "\n",
    "    1.2 Problem to be resolved.\n",
    "\n",
    "    1.3 Interested Audience.\n",
    "    \n",
    "\n",
    "#### 2. Data Section:\n",
    "\n",
    "    2.1 Data Required to resolve the problem.\n",
    "\n",
    "    2.2 Data sources and manipulation.\n",
    "    \n",
    "    2.3 How the data will be manipulated.\n",
    "    \n",
    "    2.4 Data Mapping.\n",
    "    \n",
    "\n",
    "#### 3. Methodology:\n",
    "\n",
    "    3.1 Steps taken and strategy followed.\n",
    "\n",
    "    3.2 Data science methods, machine learning, mapping tools and exploratory data analysis.\n",
    "    \n",
    "\n",
    "#### 4. Results obtained:\n",
    "\n",
    "    Discussion of the results and how they help to make a decision.\n",
    "    \n",
    "\n",
    "#### 5. Discussion about observations:\n",
    "\n",
    "    Observations about the obtained data.\n",
    "    \n",
    "\n",
    "#### 6. Last conclusions:\n",
    "\n",
    "    Decide taken and conclusion report."
   ]
  },
  {
   "cell_type": "markdown",
   "metadata": {},
   "source": [
    "# 1.\tIntroduction Section : \n",
    "### Discussion of the business problem and the audience who would be interested in this project."
   ]
  },
  {
   "cell_type": "markdown",
   "metadata": {},
   "source": [
    "### 1.1 Scenario and  Background\n",
    "\n",
    "The purpose is to search for a house for rent in the Canadian city of Vancouver. This house must meet certain requirements regarding the location of the same, environment, places of interest, proximity to means of transport.\n",
    "It is not a matter of making a comparison with another city in the world, but rather seeks to meet the minimum requirements of a target client.\n",
    "Although this problem could be solved simply by making use of the professional services of a real estate agent, all the techniques and knowledge acquired in the course of IBM will be applied.\n",
    "\n",
    "\n",
    "\n",
    "### 1.2  Problem to be resolved:   \n",
    "\n",
    "As detailed in the previous section, you must search for a home in the city of Vancouver. The home must meet the following requirements:\n",
    "\n",
    "- Must be in a neighborhood of the city with a family atmosphere.\n",
    "- In the environment there must be parks to walk and play sports.\n",
    "- It must be close to public transportation.\n",
    "- There must be a sports offer in the vicinity.\n",
    "- The area should be easily accessible by road.\n",
    "- It must be located next to ski areas.\n",
    "- The catering offer must be rich, coffee shops and restaurants must be in the immediate vicinity.\n",
    "\n",
    "### 1.3 Interested Audience:\n",
    "\n",
    "The audience interested in this project is a supposed target customer who must change his place of residence from a European capital, to the city of Vancouver. This is a manager of a multinational company with a high purchasing power and that has no economic limitations in terms of the rental price of the home in question since the cost of such rent will be borne by the company for which he works.\n",
    "The requirements on the location of the home seek to find an environment similar to the current place of residence of the client."
   ]
  },
  {
   "cell_type": "markdown",
   "metadata": {},
   "source": [
    "# 2. Data Section:\n",
    "### Description of the data and its sources that will be used to solve the problem\n",
    "\n",
    "### 2.1 Data Required to resolve the problem\n",
    "\n",
    "To make the choice of the home that the client is looking for in Vancouver, the following information is needed:\n",
    "\n",
    "- Information about the neighborhoods of the city with their geographic location data.\n",
    "- Information on the means of transport of the city with your location data.\n",
    "- Data on the houses that are under rent in the city.\n",
    "- Geographical data on the requirements of green leisure areas.\n",
    "- Interesting information about the restoration offer of the city with its geographical coordinates of location.\n"
   ]
  },
  {
   "cell_type": "markdown",
   "metadata": {},
   "source": [
    "## 2.2 Data sources and manipulation.\n",
    "\n",
    "Data on the neighborhoods and zip codes of the city of Vancouver have been obtained here:\n",
    "\n",
    "https://www.geonames.org/postalcode-search.html?q=vancouver&country=CA&adminCode1=BC\n",
    "\n",
    "This data has been easily and quickly manageable directly by copying from the page and manipulating in an Excel file. Since it is a very small size table, it has been decided to carry out in this way so as not to steal time from the other parts of the project.\n",
    "\n",
    "The data on points of interest such as transportation, leisure centers, parks, restaurants and others, have been obtained directly from Foursquare.\n",
    "\n",
    "The geolocation of the neighborhoods carried out directly on the project, allowed to observe at a glance, which neighborhoods of the city were more interesting for the target client.\n",
    "\n",
    "Since in this case our client does not present economic problems for the rental of the house, because it is financed by the company for which he works, the data on rental housing in the city of Vancouver have been ignored at first and all efforts have been focused on deciding, within the district chosen by the geoposión, which would be the best neighborhood that fulfilled the objectives sought.\n"
   ]
  },
  {
   "cell_type": "markdown",
   "metadata": {},
   "source": [
    "## 2.3 How the data will be manipulated.\n",
    "\n",
    "The data on neighborhoods we have already advanced in what way have been handled in the previous section. These have been copied directly from the page provided and have been quickly manipulated on an Excel sheet. Since it is totally clean data, it has only been necessary to order the columans and save the file with .csv extension to facilitate later reading on our notebook.\n",
    " \n",
    "The data will be used as follows:\n",
    "Use Foursquare and geopy data to assign the top 10 locations for all neighborhoods in the North Vancouver district as this is the designated place to locate the home and grouped into groups.\n",
    "\n",
    "The foursquare and geopy data have been used to plot the location of the places of interest.\n",
    "\n",
    "Using Geopy-distance and Nominatim, neighborhoods and places of interest have been geolocated."
   ]
  },
  {
   "cell_type": "markdown",
   "metadata": {},
   "source": [
    "### 2.4 Data Mapping.\n",
    "\n",
    "Several maps were created for the analysis of the project:\n",
    "\n",
    "  - Map of the city of Vancouver with the districts.\n",
    "  - Map of the district of North Vancouver with its neighborhoods.\n",
    "  - Map with the distribution of points of interest."
   ]
  },
  {
   "cell_type": "markdown",
   "metadata": {},
   "source": [
    "# 3.  Methodology :\n",
    "## 3.1 Steps taken and strategy followed.\n",
    "**By direct appreciation of the neighborhoods of the city of Vancouver on the map, it is decided to perform the analysis on the district of North Vancouver as an objective.**"
   ]
  },
  {
   "cell_type": "markdown",
   "metadata": {},
   "source": [
    "## 3.2 Data science methods, machine learning, mapping tools and exploratory data analysis.\n",
    "\n",
    "**Once the objective of the study has been determined, all geolocation, marking and grouping techniques are put into practice, which will be necessary to analyze the best options and make a decision based on the data obtained.\n",
    "The procedure followed will be the same as that already concluded in the case study of the city of New York. Points of interest will be searched in the designated neighborhood and a grouping will be made by points of interest that will help us decide which steps to follow.**   \n",
    "\n",
    "**Geolocate the district of North Vancouver with Nominatim.**"
   ]
  },
  {
   "cell_type": "markdown",
   "metadata": {},
   "source": [
    "# 4. Results obtained:\n",
    "### Discussion of the results and how they help to make a decision."
   ]
  },
  {
   "cell_type": "markdown",
   "metadata": {},
   "source": [
    "**The grouping according to interests is a tool that will allow to make a decision based on the interests of the project.**"
   ]
  },
  {
   "cell_type": "markdown",
   "metadata": {},
   "source": [
    "# 5. Discussion about observations:\n",
    "### Observations about the obtained data."
   ]
  },
  {
   "cell_type": "markdown",
   "metadata": {},
   "source": [
    "**In view of the results obtained in the grouping according to the groups of venues, it is appreciated that the second one is the most interesting according to the preferences of the client, where he looks for a wide range of services ranging from leisure to transport.**"
   ]
  },
  {
   "cell_type": "markdown",
   "metadata": {},
   "source": [
    "# 6. Last conclusions:\n",
    "### Decide taken and conclusion report."
   ]
  },
  {
   "cell_type": "markdown",
   "metadata": {},
   "source": [
    "**As already explained in the previous section, the client will be provided with the information and the report will show the best options that have been presented to us thanks to the geolocation of venues and the grouping of them according to the interests of the project.**"
   ]
  },
  {
   "cell_type": "code",
   "execution_count": null,
   "metadata": {},
   "outputs": [],
   "source": []
  }
 ],
 "metadata": {
  "kernelspec": {
   "display_name": "Python 3",
   "language": "python",
   "name": "python3"
  },
  "language_info": {
   "codemirror_mode": {
    "name": "ipython",
    "version": 3
   },
   "file_extension": ".py",
   "mimetype": "text/x-python",
   "name": "python",
   "nbconvert_exporter": "python",
   "pygments_lexer": "ipython3",
   "version": "3.7.3"
  }
 },
 "nbformat": 4,
 "nbformat_minor": 2
}
